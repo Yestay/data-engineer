{
 "cells": [
  {
   "cell_type": "code",
   "execution_count": 1,
   "metadata": {},
   "outputs": [
    {
     "data": {
      "text/plain": [
       "Intitializing Scala interpreter ..."
      ]
     },
     "metadata": {},
     "output_type": "display_data"
    },
    {
     "data": {
      "text/plain": [
       "Spark Web UI available at http://210a44f35d45:4041\n",
       "SparkContext available as 'sc' (version = 3.0.0, master = local[*], app id = local-1598197049471)\n",
       "SparkSession available as 'spark'\n"
      ]
     },
     "metadata": {},
     "output_type": "display_data"
    },
    {
     "name": "stdout",
     "output_type": "stream",
     "text": [
      "Current spark version is 3.0.0\n"
     ]
    }
   ],
   "source": [
    "println(s\"Current spark version is ${spark.version}\")"
   ]
  },
  {
   "cell_type": "code",
   "execution_count": 2,
   "metadata": {},
   "outputs": [
    {
     "name": "stdout",
     "output_type": "stream",
     "text": [
      "Total tweets in file: 1600000\n"
     ]
    },
    {
     "data": {
      "text/plain": [
       "import org.apache.spark.sql.types.{StructType, StructField, IntegerType, LongType, StringType}\n",
       "dataSchema: org.apache.spark.sql.types.StructType = StructType(StructField(target,IntegerType,true), StructField(id,LongType,true), StructField(raw_timestamp,StringType,true), StructField(query_status,StringType,true), StructField(author,StringType,true), StructField(tweet,StringType,true))\n",
       "dataPath: String = /home/jovyan/data/training.1600000.processed.noemoticon.csv\n",
       "raw_sentiment: org.apache.spark.sql.DataFrame = [tweet: string]\n"
      ]
     },
     "execution_count": 2,
     "metadata": {},
     "output_type": "execute_result"
    }
   ],
   "source": [
    "import org.apache.spark.sql.types.{StructType, StructField, IntegerType, LongType, StringType}\n",
    "\n",
    "val dataSchema = new StructType()\n",
    "    .add(\"target\", IntegerType)\n",
    "    .add(\"id\", LongType)\n",
    "    .add(\"raw_timestamp\", StringType)\n",
    "    .add(\"query_status\", StringType)\n",
    "    .add(\"author\", StringType)\n",
    "    .add(\"tweet\", StringType)\n",
    "\n",
    "    \n",
    "val dataPath= \"/home/jovyan/data/training.1600000.processed.noemoticon.csv\"\n",
    "\n",
    "val raw_sentiment = spark.read\n",
    "    .format(\"csv\")\n",
    "    .option(\"header\",false)\n",
    "    .schema(dataSchema)\n",
    "    .load(dataPath)\n",
    "    .selectExpr(\"tweet\")\n",
    "\n",
    "println(s\"Total tweets in file: ${raw_sentiment.count}\")\n"
   ]
  },
  {
   "cell_type": "code",
   "execution_count": 7,
   "metadata": {},
   "outputs": [
    {
     "name": "stdout",
     "output_type": "stream",
     "text": [
      "Streaming started!\n"
     ]
    },
    {
     "data": {
      "text/plain": [
       "import java.util.{Calendar, Timer, TimerTask}\n",
       "timer: java.util.Timer = java.util.Timer@6839ae77\n",
       "task: java.util.TimerTask = $anon$1@79d6536a\n"
      ]
     },
     "execution_count": 7,
     "metadata": {},
     "output_type": "execute_result"
    },
    {
     "name": "stdout",
     "output_type": "stream",
     "text": [
      "2020-08-23T16:01:32.330Z - saved some data to the events stream!\n",
      "2020-08-23T16:01:47.235Z - saved some data to the events stream!\n",
      "2020-08-23T16:02:01.168Z - saved some data to the events stream!\n",
      "2020-08-23T16:02:14.551Z - saved some data to the events stream!\n",
      "2020-08-23T16:02:28.575Z - saved some data to the events stream!\n",
      "2020-08-23T16:02:42.395Z - saved some data to the events stream!\n",
      "2020-08-23T16:02:54.818Z - saved some data to the events stream!\n",
      "2020-08-23T16:03:07.215Z - saved some data to the events stream!\n",
      "2020-08-23T16:03:18.661Z - saved some data to the events stream!\n",
      "2020-08-23T16:03:30.285Z - saved some data to the events stream!\n",
      "2020-08-23T16:03:42.391Z - saved some data to the events stream!\n",
      "2020-08-23T16:03:54.571Z - saved some data to the events stream!\n",
      "2020-08-23T16:04:06.414Z - saved some data to the events stream!\n"
     ]
    }
   ],
   "source": [
    "import java.util.{Calendar, Timer, TimerTask}\n",
    "\n",
    "val timer = new Timer()\n",
    "\n",
    "val task = new TimerTask {\n",
    "  def run(): Unit = {\n",
    "      val data = raw_sentiment.sample(fraction=0.00001,withReplacement=true)\n",
    "      data.coalesce(1).write.format(\"json\").mode(\"append\").save(\"/home/jovyan/data/events-stream\")\n",
    "      println(s\"${Calendar.getInstance().toInstant} - saved some data to the events stream!\")\n",
    "  } \n",
    "}\n",
    "\n",
    "println(\"Streaming started!\")\n",
    "\n",
    "timer.schedule(task, 1000L, 1000L)"
   ]
  },
  {
   "cell_type": "code",
   "execution_count": 8,
   "metadata": {},
   "outputs": [
    {
     "data": {
      "text/plain": [
       "res5: Boolean = true\n"
      ]
     },
     "execution_count": 8,
     "metadata": {},
     "output_type": "execute_result"
    },
    {
     "name": "stdout",
     "output_type": "stream",
     "text": [
      "2020-08-23T16:04:20.344Z - saved some data to the events stream!\n"
     ]
    }
   ],
   "source": [
    "task.cancel()"
   ]
  },
  {
   "cell_type": "code",
   "execution_count": 6,
   "metadata": {},
   "outputs": [],
   "source": [
    "timer.schedule?"
   ]
  },
  {
   "cell_type": "code",
   "execution_count": null,
   "metadata": {},
   "outputs": [],
   "source": []
  }
 ],
 "metadata": {
  "kernelspec": {
   "display_name": "spylon-kernel",
   "language": "scala",
   "name": "spylon-kernel"
  },
  "language_info": {
   "codemirror_mode": "text/x-scala",
   "file_extension": ".scala",
   "help_links": [
    {
     "text": "MetaKernel Magics",
     "url": "https://metakernel.readthedocs.io/en/latest/source/README.html"
    }
   ],
   "mimetype": "text/x-scala",
   "name": "scala",
   "pygments_lexer": "scala",
   "version": "0.4.1"
  }
 },
 "nbformat": 4,
 "nbformat_minor": 4
}
