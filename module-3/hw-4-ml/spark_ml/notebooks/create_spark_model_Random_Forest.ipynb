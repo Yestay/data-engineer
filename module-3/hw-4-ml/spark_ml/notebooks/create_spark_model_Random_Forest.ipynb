{
 "cells": [
  {
   "cell_type": "code",
   "execution_count": 1,
   "metadata": {},
   "outputs": [
    {
     "data": {
      "text/plain": [
       "Intitializing Scala interpreter ..."
      ]
     },
     "metadata": {},
     "output_type": "display_data"
    },
    {
     "data": {
      "text/plain": [
       "Spark Web UI available at http://210a44f35d45:4040\n",
       "SparkContext available as 'sc' (version = 3.0.0, master = local[*], app id = local-1598191506104)\n",
       "SparkSession available as 'spark'\n"
      ]
     },
     "metadata": {},
     "output_type": "display_data"
    },
    {
     "name": "stdout",
     "output_type": "stream",
     "text": [
      "Current spark version is 3.0.0\n"
     ]
    }
   ],
   "source": [
    "println(s\"Current spark version is ${spark.version}\")"
   ]
  },
  {
   "cell_type": "code",
   "execution_count": 2,
   "metadata": {},
   "outputs": [
    {
     "name": "stdout",
     "output_type": "stream",
     "text": [
      "+-----+------+\n",
      "|label| count|\n",
      "+-----+------+\n",
      "|    1|800000|\n",
      "|    0|800000|\n",
      "+-----+------+\n",
      "\n"
     ]
    },
    {
     "data": {
      "text/plain": [
       "import org.apache.spark.sql.types.{StructType, StructField, IntegerType, LongType, StringType}\n",
       "dataSchema: org.apache.spark.sql.types.StructType = StructType(StructField(target,IntegerType,true), StructField(id,LongType,true), StructField(raw_timestamp,StringType,true), StructField(query_status,StringType,true), StructField(author,StringType,true), StructField(tweet,StringType,true))\n",
       "dataPath: String = /home/jovyan/data/training.1600000.processed.noemoticon.csv\n",
       "raw_sentiment: org.apache.spark.sql.DataFrame = [label: int, tweet: string]\n"
      ]
     },
     "execution_count": 2,
     "metadata": {},
     "output_type": "execute_result"
    }
   ],
   "source": [
    "import org.apache.spark.sql.types.{StructType, StructField, IntegerType, LongType, StringType}\n",
    "\n",
    "val dataSchema = new StructType()\n",
    "    .add(\"target\", IntegerType)\n",
    "    .add(\"id\", LongType)\n",
    "    .add(\"raw_timestamp\", StringType)\n",
    "    .add(\"query_status\", StringType)\n",
    "    .add(\"author\", StringType)\n",
    "    .add(\"tweet\", StringType)\n",
    "\n",
    "val dataPath= \"/home/jovyan/data/training.1600000.processed.noemoticon.csv\"\n",
    "\n",
    "val raw_sentiment = spark.read\n",
    "    .format(\"csv\")\n",
    "    .option(\"header\",false)\n",
    "    .schema(dataSchema)\n",
    "    .load(dataPath)\n",
    "    .selectExpr(\"(case when target=4 then 1 else 0 end) as label\",\"tweet\")\n",
    "\n",
    "raw_sentiment.groupBy($\"label\").count.show"
   ]
  },
  {
   "cell_type": "code",
   "execution_count": 3,
   "metadata": {},
   "outputs": [],
   "source": [
    "//raw_sentiment.filter(\"label = 1\").show(100, false)"
   ]
  },
  {
   "cell_type": "code",
   "execution_count": 5,
   "metadata": {},
   "outputs": [
    {
     "data": {
      "text/plain": [
       "import org.apache.spark.ml.{Pipeline, PipelineModel}\n",
       "import org.apache.spark.ml.classification.LogisticRegression\n",
       "import org.apache.spark.ml.classification.{RandomForestClassificationModel, RandomForestClassifier}\n",
       "import org.apache.spark.ml.feature.{HashingTF, Tokenizer}\n",
       "import org.apache.spark.ml.linalg.Vector\n",
       "import org.apache.spark.sql.Row\n",
       "import org.apache.spark.ml.feature.{IndexToString, StringIndexer, VectorIndexer}\n",
       "import org.apache.spark.ml.classification.{RandomForestClassificationModel, RandomForestClassifier}\n",
       "tokenizer: org.apache.spark.ml.feature.Tokenizer = tok_5b3e2fd5355a\n",
       "hashingTF: org.apache.spark.ml.feature.HashingTF = HashingTF: uid=hashingTF_ea283f04044a, binary=false, numFeatures=1000\n",
       "rf: org.apache.spark.ml.classification.RandomForestClassifier = rfc_c551102eca04\n",
       "p...\n"
      ]
     },
     "execution_count": 5,
     "metadata": {},
     "output_type": "execute_result"
    }
   ],
   "source": [
    "import org.apache.spark.ml.{Pipeline, PipelineModel}\n",
    "import org.apache.spark.ml.classification.LogisticRegression\n",
    "import org.apache.spark.ml.classification.{RandomForestClassificationModel, RandomForestClassifier}\n",
    "import org.apache.spark.ml.feature.{HashingTF, Tokenizer}\n",
    "import org.apache.spark.ml.linalg.Vector\n",
    "import org.apache.spark.sql.Row\n",
    "import org.apache.spark.ml.feature.{IndexToString, StringIndexer, VectorIndexer}\n",
    "import org.apache.spark.ml.classification.{RandomForestClassificationModel, RandomForestClassifier}\n",
    "val tokenizer = new Tokenizer()\n",
    "    .setInputCol(\"tweet\")\n",
    "    .setOutputCol(\"words\")\n",
    "\n",
    "val hashingTF = new HashingTF()\n",
    "    .setNumFeatures(1000)\n",
    "    .setInputCol(tokenizer.getOutputCol)\n",
    "    .setOutputCol(\"features\")\n",
    "\n",
    "// val lr = new LogisticRegression()\n",
    "//     .setMaxIter(10)\n",
    "//     .setRegParam(0.001)\n",
    "val rf = new RandomForestClassifier()\n",
    "  .setLabelCol(\"label\")\n",
    "  .setFeaturesCol(hashingTF.getOutputCol)\n",
    "  .setNumTrees(10)\n",
    "\n",
    "val pipeline = new Pipeline()\n",
    "  .setStages(Array(tokenizer, hashingTF, rf))\n"
   ]
  },
  {
   "cell_type": "code",
   "execution_count": 6,
   "metadata": {},
   "outputs": [
    {
     "data": {
      "text/plain": [
       "model: org.apache.spark.ml.PipelineModel = pipeline_6781f88228f0\n"
      ]
     },
     "execution_count": 6,
     "metadata": {},
     "output_type": "execute_result"
    }
   ],
   "source": [
    "val model = pipeline.fit(raw_sentiment)"
   ]
  },
  {
   "cell_type": "code",
   "execution_count": 7,
   "metadata": {},
   "outputs": [],
   "source": [
    "model.write.overwrite().save(\"/home/jovyan/models/spark-ml-model\")"
   ]
  },
  {
   "cell_type": "code",
   "execution_count": 8,
   "metadata": {},
   "outputs": [
    {
     "data": {
      "text/plain": [
       "sameModel: org.apache.spark.ml.PipelineModel = pipeline_6781f88228f0\n"
      ]
     },
     "execution_count": 8,
     "metadata": {},
     "output_type": "execute_result"
    }
   ],
   "source": [
    "val sameModel = PipelineModel.load(\"/home/jovyan/models/spark-ml-model\")"
   ]
  },
  {
   "cell_type": "code",
   "execution_count": 9,
   "metadata": {
    "scrolled": true
   },
   "outputs": [
    {
     "name": "stdout",
     "output_type": "stream",
     "text": [
      "+-----+--------------------+--------------------+--------------------+--------------------+--------------------+----------+\n",
      "|label|               tweet|               words|            features|       rawPrediction|         probability|prediction|\n",
      "+-----+--------------------+--------------------+--------------------+--------------------+--------------------+----------+\n",
      "|    0|@switchfoot http:...|[@switchfoot, htt...|(1000,[10,21,81,1...|[4.82853511946235...|[0.48285351194623...|       1.0|\n",
      "|    0|is upset that he ...|[is, upset, that,...|(1000,[121,193,20...|[4.75893820180163...|[0.47589382018016...|       1.0|\n",
      "|    0|@Kenichan I dived...|[@kenichan, i, di...|(1000,[17,185,188...|[5.12521184154203...|[0.51252118415420...|       0.0|\n",
      "|    0|my whole body fee...|[my, whole, body,...|(1000,[191,330,44...|[5.08705958038058...|[0.50870595803805...|       0.0|\n",
      "|    0|@nationwideclass ...|[@nationwideclass...|(1000,[32,162,166...|[5.23795069436853...|[0.52379506943685...|       0.0|\n",
      "|    0|@Kwesidei not the...|[@kwesidei, not, ...|(1000,[17,205,405...|[4.82853511946235...|[0.48285351194623...|       1.0|\n",
      "|    0|         Need a hug |      [need, a, hug]|(1000,[467,537,73...|[5.21051921282574...|[0.52105192128257...|       0.0|\n",
      "|    0|@LOLTrish hey  lo...|[@loltrish, hey, ...|(1000,[157,166,26...|[4.91540919934884...|[0.49154091993488...|       1.0|\n",
      "|    0|@Tatiana_K nope t...|[@tatiana_k, nope...|(1000,[48,234,257...|[4.82853511946235...|[0.48285351194623...|       1.0|\n",
      "|    0|@twittera que me ...|[@twittera, que, ...|(1000,[67,369,451...|[4.96019985101462...|[0.49601998510146...|       1.0|\n",
      "|    0|spring break in p...|[spring, break, i...|(1000,[207,437,64...|[4.82853511946235...|[0.48285351194623...|       1.0|\n",
      "|    0|I just re-pierced...|[i, just, re-pier...|(1000,[307,406,47...|[5.11560080916100...|[0.51156008091610...|       0.0|\n",
      "|    0|@caregiving I cou...|[@caregiving, i, ...|(1000,[17,55,329,...|[4.99354710998975...|[0.49935471099897...|       1.0|\n",
      "|    0|@octolinz16 It it...|[@octolinz16, it,...|(1000,[32,281,338...|[4.99354710998975...|[0.49935471099897...|       1.0|\n",
      "|    0|@smarrison i woul...|[@smarrison, i, w...|(1000,[17,74,112,...|[5.38300879509277...|[0.53830087950927...|       0.0|\n",
      "|    0|@iamjazzyfizzle I...|[@iamjazzyfizzle,...|(1000,[10,17,54,6...|[5.64326565366646...|[0.56432656536664...|       0.0|\n",
      "|    0|Hollis' death sce...|[hollis', death, ...|(1000,[3,58,109,1...|[4.82853511946235...|[0.48285351194623...|       1.0|\n",
      "|    0|about to file taxes |[about, to, file,...|(1000,[108,294,48...|[4.82853511946235...|[0.48285351194623...|       1.0|\n",
      "|    0|@LettyA ahh ive a...|[@lettya, ahh, iv...|(1000,[11,17,240,...|[4.53187541418803...|[0.45318754141880...|       1.0|\n",
      "|    0|@FakerPattyPattz ...|[@fakerpattypattz...|(1000,[2,17,216,2...|[4.82853511946235...|[0.48285351194623...|       1.0|\n",
      "+-----+--------------------+--------------------+--------------------+--------------------+--------------------+----------+\n",
      "only showing top 20 rows\n",
      "\n"
     ]
    },
    {
     "data": {
      "text/plain": [
       "predictionsDF: org.apache.spark.sql.DataFrame = [label: int, tweet: string ... 5 more fields]\n"
      ]
     },
     "execution_count": 9,
     "metadata": {},
     "output_type": "execute_result"
    }
   ],
   "source": [
    "val predictionsDF = sameModel.transform(raw_sentiment)\n",
    "\n",
    "predictionsDF.show()"
   ]
  },
  {
   "cell_type": "code",
   "execution_count": 10,
   "metadata": {},
   "outputs": [
    {
     "name": "stdout",
     "output_type": "stream",
     "text": [
      "+-----+--------------------+--------------------+--------------------+--------------------+--------------------+----------+\n",
      "|label|               tweet|               words|            features|       rawPrediction|         probability|prediction|\n",
      "+-----+--------------------+--------------------+--------------------+--------------------+--------------------+----------+\n",
      "|    1|I LOVE @Health4Ua...|[i, love, @health...|(1000,[17,216,240...|[4.79378079709192...|[0.47937807970919...|       1.0|\n",
      "|    1|im meeting up wit...|[im, meeting, up,...|(1000,[20,26,29,1...|[5.08705958038058...|[0.50870595803805...|       0.0|\n",
      "|    1|@DaRealSunisaKim ...|[@darealsunisakim...|(1000,[10,17,19,2...|[4.99354710998975...|[0.49935471099897...|       1.0|\n",
      "|    1|Being sick can be...|[being, sick, can...|(1000,[73,76,112,...|[5.11956656772819...|[0.51195665677281...|       0.0|\n",
      "|    1|@LovesBrooklyn2 h...|[@lovesbrooklyn2,...|(1000,[66,324,559...|[4.94152248273069...|[0.49415224827306...|       1.0|\n",
      "|    1|@ProductOfFear Yo...|[@productoffear, ...|(1000,[1,61,64,84...|[5.21864020545765...|[0.52186402054576...|       0.0|\n",
      "|    1|@r_keith_hill Tha...|[@r_keith_hill, t...|(1000,[139,263,34...|[4.73221254880008...|[0.47322125488000...|       1.0|\n",
      "|    1|@KeepinUpWKris I ...|[@keepinupwkris, ...|(1000,[0,17,142,1...|[4.45958692282765...|[0.44595869228276...|       1.0|\n",
      "|    1|@tommcfly ah, con...|[@tommcfly, ah,, ...|(1000,[131,248,25...|[4.82853511946235...|[0.48285351194623...|       1.0|\n",
      "|    1|@e4VoIP I RESPOND...|[@e4voip, i, resp...|(1000,[0,85,209,3...|[5.12521184154203...|[0.51252118415420...|       0.0|\n",
      "|    1|crazy day of scho...|[crazy, day, of, ...|(1000,[17,91,133,...|[4.58997381564361...|[0.45899738156436...|       1.0|\n",
      "|    1|@naughtyhaughty H...|[@naughtyhaughty,...|(1000,[106,146,24...|[4.46433274400847...|[0.44643327440084...|       1.0|\n",
      "|    1|@nileyjileyluver ...|[@nileyjileyluver...|(1000,[17,282,426...|[4.96650131559047...|[0.49665013155904...|       1.0|\n",
      "|    1|@soundwav2010 At ...|[@soundwav2010, a...|(1000,[17,127,160...|[5.12339949559662...|[0.51233994955966...|       0.0|\n",
      "|    1|@LutheranLucciol ...|[@lutheranlucciol...|(1000,[66,71,140,...|[5.65937465846558...|[0.56593746584655...|       0.0|\n",
      "|    1|Just added tweeti...|[just, added, twe...|(1000,[307,482,48...|[5.08705958038058...|[0.50870595803805...|       0.0|\n",
      "|    1|@michellardi i re...|[@michellardi, i,...|(1000,[16,27,87,1...|[5.37140197296572...|[0.53714019729657...|       0.0|\n",
      "|    1|@nicolerichie: yo...|[@nicolerichie:, ...|(1000,[209,263,47...|[4.73221254880008...|[0.47322125488000...|       1.0|\n",
      "|    1|Catching Up on Em...|[catching, up, on...|(1000,[0,92,146,1...|[4.62876880656452...|[0.46287688065645...|       1.0|\n",
      "|    1|Dancing around th...|[dancing, around,...|(1000,[17,157,197...|[4.86609362635333...|[0.48660936263533...|       1.0|\n",
      "|    1|Didn't place in t...|[didn't, place, i...|(1000,[17,257,336...|[4.97066774381151...|[0.49706677438115...|       1.0|\n",
      "|    1|Going to bed so g...|[going, to, bed, ...|(1000,[12,38,338,...|[4.82853511946235...|[0.48285351194623...|       1.0|\n",
      "|    1|@LittleLumen walk...|[@littlelumen, wa...|(1000,[17,25,217,...|[4.82853511946235...|[0.48285351194623...|       1.0|\n",
      "|    1|is now followinq ...|[is, now, followi...|(1000,[25,209,226...|[4.82853511946235...|[0.48285351194623...|       1.0|\n",
      "|    1|@LordPov Are you ...|[@lordpov, are, y...|(1000,[17,81,91,2...|[4.74839319306804...|[0.47483931930680...|       1.0|\n",
      "|    1|Aw i'm holding my...|[aw, i'm, holding...|(1000,[2,97,157,1...|[5.22919220472974...|[0.52291922047297...|       0.0|\n",
      "|    1|@iJohn kitteh is ...|[@ijohn, kitteh, ...|(1000,[180,209,21...|[5.11560080916100...|[0.51156008091610...|       0.0|\n",
      "|    1| @DramaBeats agreed |[@dramabeats, agr...|(1000,[65,189],[1...|[4.82853511946235...|[0.48285351194623...|       1.0|\n",
      "|    1|reaching amritsar...|[reaching, amrits...|(1000,[77,152,162...|[5.34328411665280...|[0.53432841166528...|       0.0|\n",
      "|    1|@ALBinLA.  I was ...|[@albinla., , i, ...|(1000,[17,35,170,...|[4.99354710998975...|[0.49935471099897...|       1.0|\n",
      "|    1|happy to spend ti...|[happy, to, spend...|(1000,[17,33,157,...|[4.36507931499549...|[0.43650793149954...|       1.0|\n",
      "|    1|finally going to ...|[finally, going, ...|(1000,[17,38,349,...|[4.97066774381151...|[0.49706677438115...|       1.0|\n",
      "|    1|so effing tired o...|[so, effing, tire...|(1000,[10,19,56,1...|[5.58421602200538...|[0.55842160220053...|       0.0|\n",
      "|    1|@deon upload di i...|[@deon, upload, d...|(1000,[1,49,143,3...|[4.82853511946235...|[0.48285351194623...|       1.0|\n",
      "|    1|@wisdomous you're...|[@wisdomous, you'...|(1000,[268,338,39...|[5.32404096993352...|[0.53240409699335...|       0.0|\n",
      "|    1|@hawaii808shellz ...|[@hawaii808shellz...|(1000,[13,97,224,...|[4.82853511946235...|[0.48285351194623...|       1.0|\n",
      "|    1|@SickWithThePen a...|[@sickwiththepen,...|(1000,[17,78,115,...|[4.82853511946235...|[0.48285351194623...|       1.0|\n",
      "|    1|YAY! found a new ...|[yay!, found, a, ...|(1000,[12,61,467,...|[4.82853511946235...|[0.48285351194623...|       1.0|\n",
      "|    1|I think I met my ...|[i, think, i, met...|(1000,[184,248,33...|[5.20357934965735...|[0.52035793496573...|       0.0|\n",
      "|    1|Across the Univer...|[across, the, uni...|(1000,[17,74,77,1...|[4.82853511946235...|[0.48285351194623...|       1.0|\n",
      "|    1|@annabellee dry s...|[@annabellee, dry...|(1000,[46,470,659...|[4.82853511946235...|[0.48285351194623...|       1.0|\n",
      "|    1|@JonathanRKnight ...|[@jonathanrknight...|(1000,[0,17,131,1...|[4.79758757916470...|[0.47975875791647...|       1.0|\n",
      "|    1|having a long con...|[having, a, long,...|(1000,[201,333,46...|[4.82853511946235...|[0.48285351194623...|       1.0|\n",
      "|    1|@suitelifeofkell ...|[@suitelifeofkell...|(1000,[133,164,19...|[4.99354710998975...|[0.49935471099897...|       1.0|\n",
      "|    1|Practicing lines/...|[practicing, line...|(1000,[13,82,131,...|[4.82853511946235...|[0.48285351194623...|       1.0|\n",
      "|    1|Going to go and r...|[going, to, go, a...|(1000,[17,26,38,1...|[5.22363622601924...|[0.52236362260192...|       0.0|\n",
      "|    1|today is our two ...|[today, is, our, ...|(1000,[17,54,100,...|[5.21106508857437...|[0.52110650885743...|       0.0|\n",
      "|    1|         I am bored |      [i, am, bored]|(1000,[158,485,75...|[4.99354710998975...|[0.49935471099897...|       1.0|\n",
      "|    1|@stevecla it is a...|[@stevecla, it, i...|(1000,[30,52,209,...|[4.99354710998975...|[0.49935471099897...|       1.0|\n",
      "|    1|@r_keith_hill Tha...|[@r_keith_hill, t...|(1000,[263,344,37...|[4.73221254880008...|[0.47322125488000...|       1.0|\n",
      "|    1|@Pope_Mello Well ...|[@pope_mello, wel...|(1000,[99,157,166...|[4.99354710998975...|[0.49935471099897...|       1.0|\n",
      "|    1|Just tryna get in...|[just, tryna, get...|(1000,[257,307,37...|[4.92695950393957...|[0.49269595039395...|       1.0|\n",
      "|    1|@KourtneyKardash ...|[@kourtneykardash...|(1000,[78,92,372,...|[4.84681757754526...|[0.48468175775452...|       1.0|\n",
      "|    1|@ladygaga Can't w...|[@ladygaga, can't...|(1000,[17,35,99,1...|[4.95603945636927...|[0.49560394563692...|       1.0|\n",
      "|    1|@QuotableBuffy I ...|[@quotablebuffy, ...|(1000,[2,10,41,76...|[4.87772950555900...|[0.48777295055590...|       1.0|\n",
      "|    1|#Devunity Wallpap...|[#devunity, wallp...|(1000,[156,372,37...|[4.59066381586035...|[0.45906638158603...|       1.0|\n",
      "|    1|Morning Tweetland...|[morning, tweetla...|(1000,[0,66,133,1...|[4.70365117912869...|[0.47036511791286...|       1.0|\n",
      "|    1|   uploading pict...|[, , , uploading,...|(1000,[372,390,64...|[4.82853511946235...|[0.48285351194623...|       1.0|\n",
      "|    1|@ash_CT Aw dont y...|[@ash_ct, aw, don...|(1000,[17,240,289...|[4.93624962189504...|[0.49362496218950...|       1.0|\n",
      "|    1|noodlebox with am...|[noodlebox, with,...|(1000,[90,276,389...|[4.82853511946235...|[0.48285351194623...|       1.0|\n",
      "|    1|@una_avion2010 So...|[@una_avion2010, ...|(1000,[89,166,297...|[4.82853511946235...|[0.48285351194623...|       1.0|\n",
      "|    1|@fuzeb they are s...|[@fuzeb, they, ar...|(1000,[8,48,117,1...|[4.83637173356439...|[0.48363717335643...|       1.0|\n",
      "|    1|loving life... an...|[loving, life...,...|(1000,[338,891,91...|[4.82853511946235...|[0.48285351194623...|       1.0|\n",
      "|    1|@ApothecaryJeri  ...|[@apothecaryjeri,...|(1000,[17,240,249...|[4.71363887069761...|[0.47136388706976...|       1.0|\n",
      "|    1|loves chocolate m...|[loves, chocolate...|(1000,[96,209,344...|[4.82853511946235...|[0.48285351194623...|       1.0|\n",
      "|    1|Going to Sutter C...|[going, to, sutte...|(1000,[25,38,83,1...|[4.82853511946235...|[0.48285351194623...|       1.0|\n",
      "|    1|@bodycoach I'll l...|[@bodycoach, i'll...|(1000,[38,41,90,1...|[5.23540019940739...|[0.52354001994073...|       0.0|\n",
      "|    1|@little__fish gue...|[@little__fish, g...|(1000,[17,50,224,...|[4.99354710998975...|[0.49935471099897...|       1.0|\n",
      "|    1|@paula_paige3489 ...|[@paula_paige3489...|(1000,[6,17,403,6...|[4.82853511946235...|[0.48285351194623...|       1.0|\n",
      "|    1|failed physics TE...|[failed, physics,...|(1000,[17,22,60,1...|[4.82853511946235...|[0.48285351194623...|       1.0|\n",
      "|    1|Just observed the...|[just, observed, ...|(1000,[11,17,209,...|[4.75893820180163...|[0.47589382018016...|       1.0|\n",
      "|    1|@leiabox so what ...|[@leiabox, so, wh...|(1000,[28,133,149...|[4.82853511946235...|[0.48285351194623...|       1.0|\n",
      "|    1|@theragingocean B...|[@theragingocean,...|(1000,[94,107,126...|[5.47494884820507...|[0.54749488482050...|       0.0|\n",
      "|    1|@Rebecca1158 good...|[@rebecca1158, go...|(1000,[431,791],[...|[4.82853511946235...|[0.48285351194623...|       1.0|\n",
      "|    1|My brother is sic...|[my, brother, is,...|(1000,[56,164,209...|[5.17503812087693...|[0.51750381208769...|       0.0|\n",
      "|    1|@drdrew *gives a ...|[@drdrew, *gives,...|(1000,[0,54,115,1...|[4.82853511946235...|[0.48285351194623...|       1.0|\n",
      "|    1|@jonathanRKnight ...|[@jonathanrknight...|(1000,[0,225,289,...|[5.36537642249163...|[0.53653764224916...|       0.0|\n",
      "|    1|Just wrote on a t...|[just, wrote, on,...|(1000,[78,103,140...|[4.97066774381151...|[0.49706677438115...|       1.0|\n",
      "|    1|had a good tech m...|[had, a, good, te...|(1000,[20,152,162...|[4.62876880656452...|[0.46287688065645...|       1.0|\n",
      "|    1|@mattgalloway Tha...|[@mattgalloway, t...|(1000,[17,86,139,...|[4.82853511946235...|[0.48285351194623...|       1.0|\n",
      "|    1|@jeffswarens depe...|[@jeffswarens, de...|(1000,[17,48,55,3...|[5.12521184154203...|[0.51252118415420...|       0.0|\n",
      "|    1|@Speak2Ashley han...|[@speak2ashley, h...|(1000,[26,29,37,1...|[5.57981258374743...|[0.55798125837474...|       0.0|\n",
      "|    1|@Honey3223 Lurker...|[@honey3223, lurk...|(1000,[314,404,63...|[4.82853511946235...|[0.48285351194623...|       1.0|\n",
      "|    1|@saravananp mine ...|[@saravananp, min...|(1000,[32,54,81,1...|[5.37983659555493...|[0.53798365955549...|       0.0|\n",
      "|    1|@trstfndbby um I ...|[@trstfndbby, um,...|(1000,[4,17,29,14...|[5.21402519363822...|[0.52140251936382...|       0.0|\n",
      "|    1|eating ice-cream ...|[eating, ice-crea...|(1000,[96,206,245...|[4.82853511946235...|[0.48285351194623...|       1.0|\n",
      "|    1|@iamdiddy your te...|[@iamdiddy, your,...|(1000,[97,156,263...|[4.87434517314925...|[0.48743451731492...|       1.0|\n",
      "|    1|@its_yvonne daaan...|[@its_yvonne, daa...|(1000,[3,100,216,...|[4.99354710998975...|[0.49935471099897...|       1.0|\n",
      "|    1|@LaurUy West.  Mo...|[@lauruy, west., ...|(1000,[248,372,42...|[4.92695950393957...|[0.49269595039395...|       1.0|\n",
      "|    1|Nikki is off work...|[nikki, is, off, ...|(1000,[73,96,112,...|[4.93157451575899...|[0.49315745157589...|       1.0|\n",
      "|    1|@marymayblood I w...|[@marymayblood, i...|(1000,[12,240,267...|[4.69696341635708...|[0.46969634163570...|       1.0|\n",
      "|    1|shenagians!  my t...|[shenagians!, , m...|(1000,[209,318,37...|[5.08705958038058...|[0.50870595803805...|       0.0|\n",
      "|    1|listening to some...|[listening, to, s...|(1000,[166,170,20...|[5.26847616665519...|[0.52684761666551...|       0.0|\n",
      "|    1|I am doing a stud...|[i, am, doing, a,...|(1000,[17,44,152,...|[4.83613760709650...|[0.48361376070965...|       1.0|\n",
      "|    1|@BittenbyBooks Oh...|[@bittenbybooks, ...|(1000,[54,112,122...|[5.01371944086042...|[0.50137194408604...|       0.0|\n",
      "|    1|21 Days till chri...|[21, days, till, ...|(1000,[83,313,365...|[4.82853511946235...|[0.48285351194623...|       1.0|\n",
      "|    1|@davidgideon Yeah...|[@davidgideon, ye...|(1000,[17,152,174...|[4.82853511946235...|[0.48285351194623...|       1.0|\n",
      "|    1|@therealjspace am...|[@therealjspace, ...|(1000,[17,125,164...|[4.99354710998975...|[0.49935471099897...|       1.0|\n",
      "|    1|@its_anne Kay tha...|[@its_anne, kay, ...|(1000,[658,667,82...|[4.82853511946235...|[0.48285351194623...|       1.0|\n",
      "|    1|          Goodnight |         [goodnight]|   (1000,[12],[1.0])|[4.82853511946235...|[0.48285351194623...|       1.0|\n",
      "+-----+--------------------+--------------------+--------------------+--------------------+--------------------+----------+\n",
      "only showing top 100 rows\n"
     ]
    },
    {
     "name": "stdout",
     "output_type": "stream",
     "text": [
      "\n"
     ]
    }
   ],
   "source": [
    "predictionsDF.filter(\"label = 1\").show(100)"
   ]
  },
  {
   "cell_type": "code",
   "execution_count": 11,
   "metadata": {},
   "outputs": [
    {
     "data": {
      "text/plain": [
       "res5: Long = 588582\n"
      ]
     },
     "execution_count": 11,
     "metadata": {},
     "output_type": "execute_result"
    }
   ],
   "source": [
    "predictionsDF.filter(\"label = 1 and prediction = 1\").count()"
   ]
  },
  {
   "cell_type": "code",
   "execution_count": 12,
   "metadata": {},
   "outputs": [
    {
     "data": {
      "text/plain": [
       "res6: Long = 800000\n"
      ]
     },
     "execution_count": 12,
     "metadata": {},
     "output_type": "execute_result"
    }
   ],
   "source": [
    "predictionsDF.filter(\"label = 1\").count()"
   ]
  },
  {
   "cell_type": "code",
   "execution_count": 8,
   "metadata": {},
   "outputs": [
    {
     "name": "stdout",
     "output_type": "stream",
     "text": [
      "root\n",
      " |-- label: integer (nullable = false)\n",
      " |-- tweet: string (nullable = true)\n",
      " |-- words: array (nullable = true)\n",
      " |    |-- element: string (containsNull = true)\n",
      " |-- features: vector (nullable = true)\n",
      " |-- rawPrediction: vector (nullable = true)\n",
      " |-- probability: vector (nullable = true)\n",
      " |-- prediction: double (nullable = false)\n",
      "\n"
     ]
    }
   ],
   "source": [
    "// predictionsDF.schema\n",
    "// predictionsDF.describe()\n",
    "// predictionsDF.stat\n",
    "predictionsDF.printSchema()"
   ]
  },
  {
   "cell_type": "code",
   "execution_count": 13,
   "metadata": {},
   "outputs": [
    {
     "data": {
      "text/plain": [
       "import org.apache.spark.sql.functions._\n",
       "getProbability: org.apache.spark.sql.expressions.UserDefinedFunction = SparkUserDefinedFunction($Lambda$4580/0x0000000841927040@740a4059,DoubleType,List(Some(class[value[0]: vector])),None,false,true)\n"
      ]
     },
     "execution_count": 13,
     "metadata": {},
     "output_type": "execute_result"
    }
   ],
   "source": [
    "import org.apache.spark.sql.functions._\n",
    "\n",
    "val getProbability = udf((prediction: org.apache.spark.ml.linalg.Vector) => prediction(1))"
   ]
  },
  {
   "cell_type": "code",
   "execution_count": 15,
   "metadata": {},
   "outputs": [
    {
     "name": "stdout",
     "output_type": "stream",
     "text": [
      "+-------------------+\n",
      "|  clean_probability|\n",
      "+-------------------+\n",
      "| 0.8467464788845905|\n",
      "| 0.2719947263171818|\n",
      "| 0.5705188849085713|\n",
      "|0.46118183287283765|\n",
      "|0.05123227139180558|\n",
      "|  0.366597769438562|\n",
      "| 0.4095537993787451|\n",
      "| 0.9015464258815036|\n",
      "|0.39991867201538905|\n",
      "| 0.4152371193384714|\n",
      "| 0.6408024160475768|\n",
      "| 0.5167122483759568|\n",
      "|   0.53312180624097|\n",
      "|  0.355500164186055|\n",
      "|0.05360343692502386|\n",
      "| 0.1041160270943646|\n",
      "| 0.3476012052729942|\n",
      "| 0.4233147373497938|\n",
      "| 0.6205675922280108|\n",
      "| 0.6259620014110904|\n",
      "+-------------------+\n",
      "only showing top 20 rows\n",
      "\n"
     ]
    }
   ],
   "source": [
    "predictionsDF.select(getProbability($\"probability\").alias(\"clean_probability\")).show"
   ]
  }
 ],
 "metadata": {
  "kernelspec": {
   "display_name": "spylon-kernel",
   "language": "scala",
   "name": "spylon-kernel"
  },
  "language_info": {
   "codemirror_mode": "text/x-scala",
   "file_extension": ".scala",
   "help_links": [
    {
     "text": "MetaKernel Magics",
     "url": "https://metakernel.readthedocs.io/en/latest/source/README.html"
    }
   ],
   "mimetype": "text/x-scala",
   "name": "scala",
   "pygments_lexer": "scala",
   "version": "0.4.1"
  }
 },
 "nbformat": 4,
 "nbformat_minor": 4
}
