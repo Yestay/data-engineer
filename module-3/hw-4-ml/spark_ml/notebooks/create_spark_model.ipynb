{
 "cells": [
  {
   "cell_type": "code",
   "execution_count": 1,
   "metadata": {},
   "outputs": [
    {
     "data": {
      "text/plain": [
       "Intitializing Scala interpreter ..."
      ]
     },
     "metadata": {},
     "output_type": "display_data"
    },
    {
     "data": {
      "text/plain": [
       "Spark Web UI available at http://210a44f35d45:4040\n",
       "SparkContext available as 'sc' (version = 3.0.0, master = local[*], app id = local-1598120955660)\n",
       "SparkSession available as 'spark'\n"
      ]
     },
     "metadata": {},
     "output_type": "display_data"
    },
    {
     "name": "stdout",
     "output_type": "stream",
     "text": [
      "Current spark version is 3.0.0\n"
     ]
    }
   ],
   "source": [
    "println(s\"Current spark version is ${spark.version}\")"
   ]
  },
  {
   "cell_type": "code",
   "execution_count": 2,
   "metadata": {},
   "outputs": [
    {
     "name": "stdout",
     "output_type": "stream",
     "text": [
      "+-----+------+\n",
      "|label| count|\n",
      "+-----+------+\n",
      "|    1|800000|\n",
      "|    0|800000|\n",
      "+-----+------+\n",
      "\n"
     ]
    },
    {
     "data": {
      "text/plain": [
       "import org.apache.spark.sql.types.{StructType, StructField, IntegerType, LongType, StringType}\n",
       "dataSchema: org.apache.spark.sql.types.StructType = StructType(StructField(target,IntegerType,true), StructField(id,LongType,true), StructField(raw_timestamp,StringType,true), StructField(query_status,StringType,true), StructField(author,StringType,true), StructField(tweet,StringType,true))\n",
       "dataPath: String = /home/jovyan/data/training.1600000.processed.noemoticon.csv\n",
       "raw_sentiment: org.apache.spark.sql.DataFrame = [label: int, tweet: string]\n"
      ]
     },
     "execution_count": 2,
     "metadata": {},
     "output_type": "execute_result"
    }
   ],
   "source": [
    "import org.apache.spark.sql.types.{StructType, StructField, IntegerType, LongType, StringType}\n",
    "\n",
    "val dataSchema = new StructType()\n",
    "    .add(\"target\", IntegerType)\n",
    "    .add(\"id\", LongType)\n",
    "    .add(\"raw_timestamp\", StringType)\n",
    "    .add(\"query_status\", StringType)\n",
    "    .add(\"author\", StringType)\n",
    "    .add(\"tweet\", StringType)\n",
    "\n",
    "val dataPath= \"/home/jovyan/data/training.1600000.processed.noemoticon.csv\"\n",
    "\n",
    "val raw_sentiment = spark.read\n",
    "    .format(\"csv\")\n",
    "    .option(\"header\",false)\n",
    "    .schema(dataSchema)\n",
    "    .load(dataPath)\n",
    "    .selectExpr(\"(case when target=4 then 1 else 0 end) as label\",\"tweet\")\n",
    "\n",
    "raw_sentiment.groupBy($\"label\").count.show"
   ]
  },
  {
   "cell_type": "code",
   "execution_count": 3,
   "metadata": {},
   "outputs": [],
   "source": [
    "//raw_sentiment.filter(\"label = 1\").show(100, false)"
   ]
  },
  {
   "cell_type": "code",
   "execution_count": 4,
   "metadata": {},
   "outputs": [
    {
     "data": {
      "text/plain": [
       "import org.apache.spark.ml.{Pipeline, PipelineModel}\n",
       "import org.apache.spark.ml.classification.LogisticRegression\n",
       "import org.apache.spark.ml.feature.{HashingTF, Tokenizer}\n",
       "import org.apache.spark.ml.linalg.Vector\n",
       "import org.apache.spark.sql.Row\n",
       "tokenizer: org.apache.spark.ml.feature.Tokenizer = tok_b70591323d67\n",
       "hashingTF: org.apache.spark.ml.feature.HashingTF = HashingTF: uid=hashingTF_7e13d22faf0b, binary=false, numFeatures=1000\n",
       "lr: org.apache.spark.ml.classification.LogisticRegression = logreg_9c751efd24f3\n",
       "pipeline: org.apache.spark.ml.Pipeline = pipeline_ee055b041b74\n"
      ]
     },
     "execution_count": 4,
     "metadata": {},
     "output_type": "execute_result"
    }
   ],
   "source": [
    "import org.apache.spark.ml.{Pipeline, PipelineModel}\n",
    "import org.apache.spark.ml.classification.LogisticRegression\n",
    "import org.apache.spark.ml.feature.{HashingTF, Tokenizer}\n",
    "import org.apache.spark.ml.linalg.Vector\n",
    "import org.apache.spark.sql.Row\n",
    "\n",
    "val tokenizer = new Tokenizer()\n",
    "    .setInputCol(\"tweet\")\n",
    "    .setOutputCol(\"words\")\n",
    "\n",
    "val hashingTF = new HashingTF()\n",
    "    .setNumFeatures(1000)\n",
    "    .setInputCol(tokenizer.getOutputCol)\n",
    "    .setOutputCol(\"features\")\n",
    "\n",
    "val lr = new LogisticRegression()\n",
    "    .setMaxIter(10)\n",
    "    .setRegParam(0.001)\n",
    "\n",
    "val pipeline = new Pipeline()\n",
    "  .setStages(Array(tokenizer, hashingTF, lr))\n"
   ]
  },
  {
   "cell_type": "code",
   "execution_count": 5,
   "metadata": {},
   "outputs": [
    {
     "data": {
      "text/plain": [
       "model: org.apache.spark.ml.PipelineModel = pipeline_ee055b041b74\n"
      ]
     },
     "execution_count": 5,
     "metadata": {},
     "output_type": "execute_result"
    }
   ],
   "source": [
    "val model = pipeline.fit(raw_sentiment)"
   ]
  },
  {
   "cell_type": "code",
   "execution_count": 6,
   "metadata": {},
   "outputs": [],
   "source": [
    "model.write.overwrite().save(\"/home/jovyan/models/spark-ml-model\")"
   ]
  },
  {
   "cell_type": "code",
   "execution_count": 7,
   "metadata": {},
   "outputs": [
    {
     "data": {
      "text/plain": [
       "sameModel: org.apache.spark.ml.PipelineModel = pipeline_ee055b041b74\n"
      ]
     },
     "execution_count": 7,
     "metadata": {},
     "output_type": "execute_result"
    }
   ],
   "source": [
    "val sameModel = PipelineModel.load(\"/home/jovyan/models/spark-ml-model\")"
   ]
  },
  {
   "cell_type": "code",
   "execution_count": 8,
   "metadata": {
    "scrolled": true
   },
   "outputs": [
    {
     "name": "stdout",
     "output_type": "stream",
     "text": [
      "+-----+--------------------+--------------------+--------------------+--------------------+--------------------+----------+\n",
      "|label|               tweet|               words|            features|       rawPrediction|         probability|prediction|\n",
      "+-----+--------------------+--------------------+--------------------+--------------------+--------------------+----------+\n",
      "|    0|@switchfoot http:...|[@switchfoot, htt...|(1000,[10,21,81,1...|[-1.7093077824651...|[0.15325352111540...|       1.0|\n",
      "|    0|is upset that he ...|[is, upset, that,...|(1000,[121,193,20...|[0.98452561467198...|[0.72800527368281...|       0.0|\n",
      "|    0|@Kenichan I dived...|[@kenichan, i, di...|(1000,[17,185,188...|[-0.2839685001973...|[0.42948111509142...|       1.0|\n",
      "|    0|my whole body fee...|[my, whole, body,...|(1000,[191,330,44...|[0.15558576510072...|[0.53881816712716...|       0.0|\n",
      "|    0|@nationwideclass ...|[@nationwideclass...|(1000,[32,162,166...|[2.91879438070464...|[0.94876772860819...|       0.0|\n",
      "|    0|@Kwesidei not the...|[@kwesidei, not, ...|(1000,[17,205,405...|[0.54684040473530...|[0.63340223056143...|       0.0|\n",
      "|    0|         Need a hug |      [need, a, hug]|(1000,[467,537,73...|[0.36581025043139...|[0.59044620062125...|       0.0|\n",
      "|    0|@LOLTrish hey  lo...|[@loltrish, hey, ...|(1000,[157,166,26...|[-2.2145264314778...|[0.09845357411849...|       1.0|\n",
      "|    0|@Tatiana_K nope t...|[@tatiana_k, nope...|(1000,[48,234,257...|[0.40580398619739...|[0.60008132798461...|       0.0|\n",
      "|    0|@twittera que me ...|[@twittera, que, ...|(1000,[67,369,451...|[0.34235670390018...|[0.58476288066152...|       0.0|\n",
      "|    0|spring break in p...|[spring, break, i...|(1000,[207,437,64...|[-0.5788485558933...|[0.35919758395242...|       1.0|\n",
      "|    0|I just re-pierced...|[i, just, re-pier...|(1000,[307,406,47...|[-0.0668739047023...|[0.48328775162404...|       1.0|\n",
      "|    0|@caregiving I cou...|[@caregiving, i, ...|(1000,[17,55,329,...|[-0.1326815310105...|[0.46687819375902...|       1.0|\n",
      "|    0|@octolinz16 It it...|[@octolinz16, it,...|(1000,[32,281,338...|[0.59494885654107...|[0.64449983581394...|       0.0|\n",
      "|    0|@smarrison i woul...|[@smarrison, i, w...|(1000,[17,74,112,...|[2.87104849332343...|[0.94639656307497...|       0.0|\n",
      "|    0|@iamjazzyfizzle I...|[@iamjazzyfizzle,...|(1000,[10,17,54,6...|[2.15230498765489...|[0.89588397290563...|       0.0|\n",
      "|    0|Hollis' death sce...|[hollis', death, ...|(1000,[3,58,109,1...|[0.62960016250143...|[0.65239879472700...|       0.0|\n",
      "|    0|about to file taxes |[about, to, file,...|(1000,[108,294,48...|[0.30918068337456...|[0.57668526265020...|       0.0|\n",
      "|    0|@LettyA ahh ive a...|[@lettya, ahh, iv...|(1000,[11,17,240,...|[-0.4919580582515...|[0.37943240777198...|       1.0|\n",
      "|    0|@FakerPattyPattz ...|[@fakerpattypattz...|(1000,[2,17,216,2...|[-0.5149322758778...|[0.37403799858890...|       1.0|\n",
      "+-----+--------------------+--------------------+--------------------+--------------------+--------------------+----------+\n",
      "only showing top 20 rows\n",
      "\n"
     ]
    },
    {
     "data": {
      "text/plain": [
       "predictionsDF: org.apache.spark.sql.DataFrame = [label: int, tweet: string ... 5 more fields]\n"
      ]
     },
     "execution_count": 8,
     "metadata": {},
     "output_type": "execute_result"
    }
   ],
   "source": [
    "val predictionsDF = sameModel.transform(raw_sentiment)\n",
    "\n",
    "predictionsDF.show()"
   ]
  },
  {
   "cell_type": "code",
   "execution_count": 12,
   "metadata": {},
   "outputs": [
    {
     "name": "stdout",
     "output_type": "stream",
     "text": [
      "+-----+--------------------+--------------------+--------------------+--------------------+--------------------+----------+\n",
      "|label|               tweet|               words|            features|       rawPrediction|         probability|prediction|\n",
      "+-----+--------------------+--------------------+--------------------+--------------------+--------------------+----------+\n",
      "|    1|I LOVE @Health4Ua...|[i, love, @health...|(1000,[17,216,240...|[-1.2100795585179...|[0.22968697429303...|       1.0|\n",
      "|    1|im meeting up wit...|[im, meeting, up,...|(1000,[20,26,29,1...|[0.65024959779721...|[0.65706670676220...|       0.0|\n",
      "|    1|@DaRealSunisaKim ...|[@darealsunisakim...|(1000,[10,17,19,2...|[-1.3618052335367...|[0.20394706118063...|       1.0|\n",
      "|    1|Being sick can be...|[being, sick, can...|(1000,[73,76,112,...|[1.61213051745973...|[0.83370697067522...|       0.0|\n",
      "|    1|@LovesBrooklyn2 h...|[@lovesbrooklyn2,...|(1000,[66,324,559...|[-0.2714939166046...|[0.43254037751081...|       1.0|\n",
      "|    1|@ProductOfFear Yo...|[@productoffear, ...|(1000,[1,61,64,84...|[-0.8212882813071...|[0.30549026197822...|       1.0|\n",
      "|    1|@r_keith_hill Tha...|[@r_keith_hill, t...|(1000,[139,263,34...|[0.14821594175731...|[0.53698630073581...|       0.0|\n",
      "|    1|@KeepinUpWKris I ...|[@keepinupwkris, ...|(1000,[0,17,142,1...|[-2.8079926241502...|[0.05689379459889...|       1.0|\n",
      "|    1|@tommcfly ah, con...|[@tommcfly, ah,, ...|(1000,[131,248,25...|[-1.4104572163968...|[0.19616195135307...|       1.0|\n",
      "|    1|@e4VoIP I RESPOND...|[@e4voip, i, resp...|(1000,[0,85,209,3...|[0.05316132847896...|[0.51328720299036...|       0.0|\n",
      "|    1|crazy day of scho...|[crazy, day, of, ...|(1000,[17,91,133,...|[-0.6943345080850...|[0.33306953500568...|       1.0|\n",
      "|    1|@naughtyhaughty H...|[@naughtyhaughty,...|(1000,[106,146,24...|[-1.5355306538210...|[0.17718592573484...|       1.0|\n",
      "|    1|@nileyjileyluver ...|[@nileyjileyluver...|(1000,[17,282,426...|[-0.7650541539981...|[0.31754996187061...|       1.0|\n",
      "|    1|@soundwav2010 At ...|[@soundwav2010, a...|(1000,[17,127,160...|[1.24954856571504...|[0.77722170595660...|       0.0|\n",
      "|    1|@LutheranLucciol ...|[@lutheranlucciol...|(1000,[66,71,140,...|[0.06374831716245...|[0.51593168432746...|       0.0|\n",
      "|    1|Just added tweeti...|[just, added, twe...|(1000,[307,482,48...|[0.22892580701669...|[0.55698281055003...|       0.0|\n",
      "|    1|@michellardi i re...|[@michellardi, i,...|(1000,[16,27,87,1...|[-0.8659114884757...|[0.29610574776916...|       1.0|\n",
      "|    1|@nicolerichie: yo...|[@nicolerichie:, ...|(1000,[209,263,47...|[-1.0319403557798...|[0.26270809869423...|       1.0|\n",
      "|    1|Catching Up on Em...|[catching, up, on...|(1000,[0,92,146,1...|[-1.1045952644800...|[0.24887987080307...|       1.0|\n",
      "|    1|Dancing around th...|[dancing, around,...|(1000,[17,157,197...|[-0.8243402450939...|[0.30484312381323...|       1.0|\n",
      "|    1|Didn't place in t...|[didn't, place, i...|(1000,[17,257,336...|[-1.3623173051660...|[0.20386393759420...|       1.0|\n",
      "|    1|Going to bed so g...|[going, to, bed, ...|(1000,[12,38,338,...|[-1.8641740227870...|[0.13421727701510...|       1.0|\n",
      "|    1|@LittleLumen walk...|[@littlelumen, wa...|(1000,[17,25,217,...|[0.49938680533451...|[0.62231521736196...|       0.0|\n",
      "|    1|is now followinq ...|[is, now, followi...|(1000,[25,209,226...|[-0.3341399651703...|[0.41723364813907...|       1.0|\n",
      "|    1|@LordPov Are you ...|[@lordpov, are, y...|(1000,[17,81,91,2...|[-1.2335891653686...|[0.22555385528373...|       1.0|\n",
      "|    1|Aw i'm holding my...|[aw, i'm, holding...|(1000,[2,97,157,1...|[0.86863548825353...|[0.70446169218576...|       0.0|\n",
      "|    1|@iJohn kitteh is ...|[@ijohn, kitteh, ...|(1000,[180,209,21...|[0.84243581285295...|[0.69897797820744...|       0.0|\n",
      "|    1| @DramaBeats agreed |[@dramabeats, agr...|(1000,[65,189],[1...|[-0.9780754750878...|[0.27327381832789...|       1.0|\n",
      "|    1|reaching amritsar...|[reaching, amrits...|(1000,[77,152,162...|[0.97166991599024...|[0.72545222230979...|       0.0|\n",
      "|    1|@ALBinLA.  I was ...|[@albinla., , i, ...|(1000,[17,35,170,...|[-0.7894982168119...|[0.31227642215133...|       1.0|\n",
      "|    1|happy to spend ti...|[happy, to, spend...|(1000,[17,33,157,...|[-1.3088077297395...|[0.21268642247013...|       1.0|\n",
      "|    1|finally going to ...|[finally, going, ...|(1000,[17,38,349,...|[0.02956844375392...|[0.50739157241307...|       0.0|\n",
      "|    1|so effing tired o...|[so, effing, tire...|(1000,[10,19,56,1...|[1.69680958849861...|[0.84511758933257...|       0.0|\n",
      "|    1|@deon upload di i...|[@deon, upload, d...|(1000,[1,49,143,3...|[0.42286803785403...|[0.60416934203496...|       0.0|\n",
      "|    1|@wisdomous you're...|[@wisdomous, you'...|(1000,[268,338,39...|[-0.2917702609111...|[0.42757053322991...|       1.0|\n",
      "|    1|@hawaii808shellz ...|[@hawaii808shellz...|(1000,[13,97,224,...|[-0.7172390063825...|[0.32800126204958...|       1.0|\n",
      "|    1|@SickWithThePen a...|[@sickwiththepen,...|(1000,[17,78,115,...|[0.19690962648425...|[0.54906896144046...|       0.0|\n",
      "|    1|YAY! found a new ...|[yay!, found, a, ...|(1000,[12,61,467,...|[-1.9312862494609...|[0.12660828010374...|       1.0|\n",
      "|    1|I think I met my ...|[i, think, i, met...|(1000,[184,248,33...|[0.00152484239234...|[0.50038121052422...|       0.0|\n",
      "|    1|Across the Univer...|[across, the, uni...|(1000,[17,74,77,1...|[-0.2988100062542...|[0.42584841278834...|       1.0|\n",
      "|    1|@annabellee dry s...|[@annabellee, dry...|(1000,[46,470,659...|[-1.1629049420660...|[0.23813984282480...|       1.0|\n",
      "|    1|@JonathanRKnight ...|[@jonathanrknight...|(1000,[0,17,131,1...|[-2.7794598168502...|[0.05844427394370...|       1.0|\n",
      "|    1|having a long con...|[having, a, long,...|(1000,[201,333,46...|[-0.3143449591538...|[0.42205453946667...|       1.0|\n",
      "|    1|@suitelifeofkell ...|[@suitelifeofkell...|(1000,[133,164,19...|[-0.4355662278943...|[0.39279795400893...|       1.0|\n",
      "|    1|Practicing lines/...|[practicing, line...|(1000,[13,82,131,...|[0.55883710736172...|[0.63618342669143...|       0.0|\n",
      "|    1|Going to go and r...|[going, to, go, a...|(1000,[17,26,38,1...|[-0.1952339091293...|[0.45134596718874...|       1.0|\n",
      "|    1|today is our two ...|[today, is, our, ...|(1000,[17,54,100,...|[-1.3319177792453...|[0.20884231897507...|       1.0|\n",
      "|    1|         I am bored |      [i, am, bored]|(1000,[158,485,75...|[0.48049933870937...|[0.61786577939931...|       0.0|\n",
      "|    1|@stevecla it is a...|[@stevecla, it, i...|(1000,[30,52,209,...|[-0.1893621314921...|[0.45280042317683...|       1.0|\n",
      "|    1|@r_keith_hill Tha...|[@r_keith_hill, t...|(1000,[263,344,37...|[-1.1323845015540...|[0.24372131808712...|       1.0|\n",
      "|    1|@Pope_Mello Well ...|[@pope_mello, wel...|(1000,[99,157,166...|[1.09840192995954...|[0.74996055566792...|       0.0|\n",
      "|    1|Just tryna get in...|[just, tryna, get...|(1000,[257,307,37...|[-0.1708848158620...|[0.45738245404487...|       1.0|\n",
      "|    1|@KourtneyKardash ...|[@kourtneykardash...|(1000,[78,92,372,...|[-0.0611529819089...|[0.48471651717968...|       1.0|\n",
      "|    1|@ladygaga Can't w...|[@ladygaga, can't...|(1000,[17,35,99,1...|[-1.5003452563193...|[0.18237403569717...|       1.0|\n",
      "|    1|@QuotableBuffy I ...|[@quotablebuffy, ...|(1000,[2,10,41,76...|[-1.8288528831866...|[0.13837498414161...|       1.0|\n",
      "|    1|#Devunity Wallpap...|[#devunity, wallp...|(1000,[156,372,37...|[-1.0979394799169...|[0.25012617285863...|       1.0|\n",
      "|    1|Morning Tweetland...|[morning, tweetla...|(1000,[0,66,133,1...|[-1.8950726673556...|[0.13066716828237...|       1.0|\n",
      "|    1|   uploading pict...|[, , , uploading,...|(1000,[372,390,64...|[-0.6900181666681...|[0.33402903199457...|       1.0|\n",
      "|    1|@ash_CT Aw dont y...|[@ash_ct, aw, don...|(1000,[17,240,289...|[-2.9489094414286...|[0.04978807971721...|       1.0|\n",
      "|    1|noodlebox with am...|[noodlebox, with,...|(1000,[90,276,389...|[-0.5947611808282...|[0.35554316557340...|       1.0|\n",
      "|    1|@una_avion2010 So...|[@una_avion2010, ...|(1000,[89,166,297...|[-0.4112185230493...|[0.39861997820467...|       1.0|\n",
      "|    1|@fuzeb they are s...|[@fuzeb, they, ar...|(1000,[8,48,117,1...|[-0.1371013005510...|[0.46577826291022...|       1.0|\n",
      "|    1|loving life... an...|[loving, life...,...|(1000,[338,891,91...|[-1.0466094001225...|[0.25987672039854...|       1.0|\n",
      "|    1|@ApothecaryJeri  ...|[@apothecaryjeri,...|(1000,[17,240,249...|[-1.4652157804008...|[0.18767088113785...|       1.0|\n",
      "|    1|loves chocolate m...|[loves, chocolate...|(1000,[96,209,344...|[-0.5103958008483...|[0.37510074515758...|       1.0|\n",
      "|    1|Going to Sutter C...|[going, to, sutte...|(1000,[25,38,83,1...|[-0.2063437579337...|[0.44859631896141...|       1.0|\n",
      "|    1|@bodycoach I'll l...|[@bodycoach, i'll...|(1000,[38,41,90,1...|[0.20660925793807...|[0.55146935360213...|       0.0|\n",
      "|    1|@little__fish gue...|[@little__fish, g...|(1000,[17,50,224,...|[0.57376652279539...|[0.63963182559609...|       0.0|\n",
      "|    1|@paula_paige3489 ...|[@paula_paige3489...|(1000,[6,17,403,6...|[-0.1781519136459...|[0.45557944484059...|       1.0|\n",
      "|    1|failed physics TE...|[failed, physics,...|(1000,[17,22,60,1...|[-0.0726243753366...|[0.48185188201615...|       1.0|\n",
      "|    1|Just observed the...|[just, observed, ...|(1000,[11,17,209,...|[-0.7038326443829...|[0.33096302966934...|       1.0|\n",
      "|    1|@leiabox so what ...|[@leiabox, so, wh...|(1000,[28,133,149...|[0.15572237345441...|[0.53885211318720...|       0.0|\n",
      "|    1|@theragingocean B...|[@theragingocean,...|(1000,[94,107,126...|[2.06750740008970...|[0.88770472652966...|       0.0|\n",
      "|    1|@Rebecca1158 good...|[@rebecca1158, go...|(1000,[431,791],[...|[-0.3660717197650...|[0.40949057249480...|       1.0|\n",
      "|    1|My brother is sic...|[my, brother, is,...|(1000,[56,164,209...|[1.14419415597023...|[0.75844885862747...|       0.0|\n",
      "|    1|@drdrew *gives a ...|[@drdrew, *gives,...|(1000,[0,54,115,1...|[-0.6255737484266...|[0.34851485314275...|       1.0|\n",
      "|    1|@jonathanRKnight ...|[@jonathanrknight...|(1000,[0,225,289,...|[-0.3064847175747...|[0.42397301051696...|       1.0|\n",
      "|    1|Just wrote on a t...|[just, wrote, on,...|(1000,[78,103,140...|[0.77754778860478...|[0.68515136575019...|       0.0|\n",
      "|    1|had a good tech m...|[had, a, good, te...|(1000,[20,152,162...|[-1.5276727171175...|[0.17833445025984...|       1.0|\n",
      "|    1|@mattgalloway Tha...|[@mattgalloway, t...|(1000,[17,86,139,...|[-2.4736025309485...|[0.07772958479422...|       1.0|\n",
      "|    1|@jeffswarens depe...|[@jeffswarens, de...|(1000,[17,48,55,3...|[-0.3421344570521...|[0.41529108527974...|       1.0|\n",
      "|    1|@Speak2Ashley han...|[@speak2ashley, h...|(1000,[26,29,37,1...|[2.05371770175259...|[0.88632273313502...|       0.0|\n",
      "|    1|@Honey3223 Lurker...|[@honey3223, lurk...|(1000,[314,404,63...|[-0.2376897285888...|[0.44085575910416...|       1.0|\n",
      "|    1|@saravananp mine ...|[@saravananp, min...|(1000,[32,54,81,1...|[1.35259438051197...|[0.79455345400975...|       0.0|\n",
      "|    1|@trstfndbby um I ...|[@trstfndbby, um,...|(1000,[4,17,29,14...|[0.84724120013642...|[0.69998810121250...|       0.0|\n",
      "|    1|eating ice-cream ...|[eating, ice-crea...|(1000,[96,206,245...|[-0.8397749380743...|[0.30158218675741...|       1.0|\n",
      "|    1|@iamdiddy your te...|[@iamdiddy, your,...|(1000,[97,156,263...|[-0.7178368797953...|[0.32786949447790...|       1.0|\n",
      "|    1|@its_yvonne daaan...|[@its_yvonne, daa...|(1000,[3,100,216,...|[-0.3079854832295...|[0.42360653556660...|       1.0|\n",
      "|    1|@LaurUy West.  Mo...|[@lauruy, west., ...|(1000,[248,372,42...|[-1.0612571269649...|[0.25706928940536...|       1.0|\n",
      "|    1|Nikki is off work...|[nikki, is, off, ...|(1000,[73,96,112,...|[0.52679047974121...|[0.62873423174649...|       0.0|\n",
      "|    1|@marymayblood I w...|[@marymayblood, i...|(1000,[12,240,267...|[-0.0809253334104...|[0.47977970051921...|       1.0|\n",
      "|    1|shenagians!  my t...|[shenagians!, , m...|(1000,[209,318,37...|[-0.0474518304613...|[0.48813926784519...|       1.0|\n",
      "|    1|listening to some...|[listening, to, s...|(1000,[166,170,20...|[-0.1933434007228...|[0.45181416197621...|       1.0|\n",
      "|    1|I am doing a stud...|[i, am, doing, a,...|(1000,[17,44,152,...|[-1.6621534488458...|[0.15947313381676...|       1.0|\n",
      "|    1|@BittenbyBooks Oh...|[@bittenbybooks, ...|(1000,[54,112,122...|[-1.5595933512218...|[0.17370500621509...|       1.0|\n",
      "|    1|21 Days till chri...|[21, days, till, ...|(1000,[83,313,365...|[-0.5834997033136...|[0.35812771016638...|       1.0|\n",
      "|    1|@davidgideon Yeah...|[@davidgideon, ye...|(1000,[17,152,174...|[-1.0592640176870...|[0.25745012699349...|       1.0|\n",
      "|    1|@therealjspace am...|[@therealjspace, ...|(1000,[17,125,164...|[-1.9829060010453...|[0.12100939724324...|       1.0|\n",
      "|    1|@its_anne Kay tha...|[@its_anne, kay, ...|(1000,[658,667,82...|[-0.5252392648729...|[0.37162793670881...|       1.0|\n",
      "|    1|          Goodnight |         [goodnight]|   (1000,[12],[1.0])|[-0.3826278527706...|[0.40549324760709...|       1.0|\n",
      "+-----+--------------------+--------------------+--------------------+--------------------+--------------------+----------+\n",
      "only showing top 100 rows\n"
     ]
    },
    {
     "name": "stdout",
     "output_type": "stream",
     "text": [
      "\n"
     ]
    }
   ],
   "source": [
    "predictionsDF.filter(\"label = 1\").show(100)"
   ]
  },
  {
   "cell_type": "code",
   "execution_count": 8,
   "metadata": {},
   "outputs": [
    {
     "name": "stdout",
     "output_type": "stream",
     "text": [
      "root\n",
      " |-- label: integer (nullable = false)\n",
      " |-- tweet: string (nullable = true)\n",
      " |-- words: array (nullable = true)\n",
      " |    |-- element: string (containsNull = true)\n",
      " |-- features: vector (nullable = true)\n",
      " |-- rawPrediction: vector (nullable = true)\n",
      " |-- probability: vector (nullable = true)\n",
      " |-- prediction: double (nullable = false)\n",
      "\n"
     ]
    }
   ],
   "source": [
    "// predictionsDF.schema\n",
    "// predictionsDF.describe()\n",
    "// predictionsDF.stat\n",
    "predictionsDF.printSchema()"
   ]
  },
  {
   "cell_type": "code",
   "execution_count": 13,
   "metadata": {},
   "outputs": [
    {
     "data": {
      "text/plain": [
       "import org.apache.spark.sql.functions._\n",
       "getProbability: org.apache.spark.sql.expressions.UserDefinedFunction = SparkUserDefinedFunction($Lambda$4580/0x0000000841927040@740a4059,DoubleType,List(Some(class[value[0]: vector])),None,false,true)\n"
      ]
     },
     "execution_count": 13,
     "metadata": {},
     "output_type": "execute_result"
    }
   ],
   "source": [
    "import org.apache.spark.sql.functions._\n",
    "\n",
    "val getProbability = udf((prediction: org.apache.spark.ml.linalg.Vector) => prediction(1))"
   ]
  },
  {
   "cell_type": "code",
   "execution_count": null,
   "metadata": {},
   "outputs": [],
   "source": [
    "predictionsDF.select(getProbability($\"probability\").alias(\"clean_probability\")).show"
   ]
  }
 ],
 "metadata": {
  "kernelspec": {
   "display_name": "spylon-kernel",
   "language": "scala",
   "name": "spylon-kernel"
  },
  "language_info": {
   "codemirror_mode": "text/x-scala",
   "file_extension": ".scala",
   "help_links": [
    {
     "text": "MetaKernel Magics",
     "url": "https://metakernel.readthedocs.io/en/latest/source/README.html"
    }
   ],
   "mimetype": "text/x-scala",
   "name": "scala",
   "pygments_lexer": "scala",
   "version": "0.4.1"
  }
 },
 "nbformat": 4,
 "nbformat_minor": 4
}
